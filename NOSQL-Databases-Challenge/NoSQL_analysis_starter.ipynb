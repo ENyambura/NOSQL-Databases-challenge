{
 "cells": [
  {
   "cell_type": "code",
   "execution_count": 1,
   "id": "3ecdd008",
   "metadata": {
    "tags": []
   },
   "outputs": [],
   "source": [
    "# Import dependencies\n",
    "from pymongo import MongoClient\n",
    "from pprint import pprint"
   ]
  },
  {
   "cell_type": "code",
   "execution_count": 52,
   "id": "59390c4a",
   "metadata": {
    "tags": []
   },
   "outputs": [
    {
     "name": "stdout",
     "output_type": "stream",
     "text": [
      "Collections in the database: []\n"
     ]
    }
   ],
   "source": [
    "# Create an instance of MongoClient\n",
    "mongo = MongoClient(port=27017)\n",
    "try:\n",
    "    mongo = MongoClient(port=27017)\n",
    "    db = mongo['UK_food']\n",
    "    collections = db.list_collection_names()\n",
    "    print('Collections in the database:', collections)\n",
    "except Exception as e:\n",
    "    print(f'Error: {e}')\n"
   ]
  },
  {
   "cell_type": "code",
   "execution_count": 57,
   "id": "71e373c1",
   "metadata": {
    "tags": []
   },
   "outputs": [
    {
     "name": "stdout",
     "output_type": "stream",
     "text": [
      "Databases: ['admin', 'classDB', 'config', 'local', 'uk_food']\n"
     ]
    }
   ],
   "source": [
    "# assign the uk_food database to a variable name\n",
    "db_list = mongo.list_database_names()\n",
    "print('Databases:', db_list)\n"
   ]
  },
  {
   "cell_type": "code",
   "execution_count": 58,
   "id": "41edf206-dc7d-464e-9eb1-a24a574e1c9e",
   "metadata": {},
   "outputs": [],
   "source": [
    "establishments = db['establishments']"
   ]
  },
  {
   "cell_type": "code",
   "execution_count": 59,
   "id": "b576f4fc-48a3-427b-8a62-c74f2b5ad707",
   "metadata": {},
   "outputs": [
    {
     "name": "stdout",
     "output_type": "stream",
     "text": [
      "Number of rows in the dataframe: 0\n",
      "Empty DataFrame\n",
      "Columns: []\n",
      "Index: []\n"
     ]
    }
   ],
   "source": [
    "collection = db['establishments']  # Replace 'your_collection_name' with the actual collection name\n",
    "query = {'scores.Hygiene': 20}\n",
    "results = list(collection.find(query))\n",
    "\n",
    "# Convert to a DataFrame and inspect\n",
    "import pandas as pd\n",
    "df = pd.DataFrame(results)\n",
    "print('Number of rows in the dataframe:', len(df))\n",
    "print(df.head(10))\n"
   ]
  },
  {
   "cell_type": "code",
   "execution_count": 56,
   "id": "8442360c-1419-417a-b4fd-63cddc9dc282",
   "metadata": {},
   "outputs": [
    {
     "name": "stdout",
     "output_type": "stream",
     "text": [
      "No documents found matching the query.\n"
     ]
    }
   ],
   "source": [
    "collection = db['establishments']\n",
    "query = {'scores.Hygiene': 20}\n",
    "\n",
    "# Execute the query and print out some results\n",
    "results = list(collection.find(query))\n",
    "\n",
    "# Check if any documents were returned\n",
    "if results:\n",
    "    print('Number of documents matching the query:', len(results))\n",
    "    print('Sample document:', results[0])\n",
    "else:\n",
    "    print('No documents found matching the query.')\n"
   ]
  },
  {
   "cell_type": "code",
   "execution_count": 38,
   "id": "49286679-b87a-485f-9d10-fcfd4395b66d",
   "metadata": {},
   "outputs": [
    {
     "name": "stdout",
     "output_type": "stream",
     "text": [
      "Collections in classDB: ['classroom']\n"
     ]
    }
   ],
   "source": [
    "db = mongo['classDB']\n",
    "collections = db.list_collection_names()\n",
    "print('Collections in classDB:', collections)\n"
   ]
  },
  {
   "cell_type": "code",
   "execution_count": 45,
   "id": "ff9ce353-058a-451a-8d42-cbf4a8eefbe0",
   "metadata": {},
   "outputs": [
    {
     "name": "stdout",
     "output_type": "stream",
     "text": [
      "Sample document structure: None\n"
     ]
    }
   ],
   "source": [
    "sample_doc = collection.find_one()\n",
    "print('Sample document structure:', sample_doc)\n"
   ]
  },
  {
   "cell_type": "code",
   "execution_count": 48,
   "id": "4dd47250-ce51-4709-87c7-c1d2e4fec319",
   "metadata": {},
   "outputs": [
    {
     "name": "stdout",
     "output_type": "stream",
     "text": [
      "No documents found matching the query.\n"
     ]
    }
   ],
   "source": [
    "import pandas as pd\n",
    "from pymongo import MongoClient\n",
    "\n",
    "# Create MongoDB client and connect to the 'uk_food' database\n",
    "mongo = MongoClient(port=27017)\n",
    "db = mongo['uk_food']\n",
    "collection = db['establishments']\n",
    "\n",
    "# Define and execute the query\n",
    "query = {'scores.Hygiene': 20}\n",
    "results = list(collection.find(query))\n",
    "\n",
    "# Check and convert results to DataFrame\n",
    "if results:\n",
    "    print(f'Number of documents matching the query: {len(results)}')\n",
    "    df = pd.DataFrame(results)\n",
    "    print('Number of rows in the dataframe:', len(df))\n",
    "    print(df.head(10))\n",
    "else:\n",
    "    print('No documents found matching the query.')\n"
   ]
  },
  {
   "cell_type": "code",
   "execution_count": 23,
   "id": "dd8d7407-a054-4362-8b93-3d8474fc4dfe",
   "metadata": {},
   "outputs": [
    {
     "name": "stdout",
     "output_type": "stream",
     "text": [
      "Unique Hygiene scores: [None, 0, 5, 10, 15, 20, 25]\n"
     ]
    }
   ],
   "source": [
    "# Aggregation to find unique Hygiene scores\n",
    "hygiene_scores = collection.distinct('scores.Hygiene')\n",
    "print('Unique Hygiene scores:', hygiene_scores)\n"
   ]
  },
  {
   "cell_type": "code",
   "execution_count": 24,
   "id": "029687da-5ef6-44cf-acd7-6252dd9f362b",
   "metadata": {},
   "outputs": [
    {
     "name": "stdout",
     "output_type": "stream",
     "text": [
      "Total number of documents in the collection: 39780\n"
     ]
    }
   ],
   "source": [
    "# Count the number of documents in the collection\n",
    "document_count = collection.count_documents({})\n",
    "print(f'Total number of documents in the collection: {document_count}')\n"
   ]
  },
  {
   "cell_type": "code",
   "execution_count": 25,
   "id": "18ab463c",
   "metadata": {
    "tags": []
   },
   "outputs": [
    {
     "data": {
      "text/plain": [
       "['sample_collection', 'establishments']"
      ]
     },
     "execution_count": 25,
     "metadata": {},
     "output_type": "execute_result"
    }
   ],
   "source": [
    "# review the collections in our database\n",
    "db.list_collection_names()"
   ]
  },
  {
   "cell_type": "code",
   "execution_count": 26,
   "id": "11c9f11b",
   "metadata": {
    "tags": []
   },
   "outputs": [],
   "source": [
    "# assign the collection to a variable\n",
    "establishments = db['establishments']"
   ]
  },
  {
   "cell_type": "markdown",
   "id": "d5671434",
   "metadata": {},
   "source": [
    "## Part 3: Exploratory Analysis\n",
    "Unless otherwise stated, for each question: \n",
    "* Use `count_documents` to display the number of documents contained in the result.\n",
    "* Display the first document in the results using `pprint`.\n",
    "* Convert the result to a Pandas DataFrame, print the number of rows in the DataFrame, and display the first 10 rows."
   ]
  },
  {
   "cell_type": "markdown",
   "id": "314bd884",
   "metadata": {},
   "source": [
    "### 1. Which establishments have a hygiene score equal to 20?"
   ]
  },
  {
   "cell_type": "code",
   "execution_count": 27,
   "id": "c2da7648",
   "metadata": {
    "tags": []
   },
   "outputs": [
    {
     "name": "stdout",
     "output_type": "stream",
     "text": [
      "Number of documents: 42\n",
      "{'_id': ObjectId('66bf0f3d5d184efb083b8ee2'),\n",
      " 'name': 'Sample Establishment',\n",
      " 'scores': {'ConfidenceInManagement': 10, 'Hygiene': 20, 'Structural': 15}}\n"
     ]
    }
   ],
   "source": [
    "# # Find the establishments with a hygiene score of 20\n",
    "# query = {'scores.Hygiene': 20}\n",
    "# results = establishments.find(query)\n",
    "\n",
    "# # Use count_documents to display the number of documents in the result\n",
    "# print(f'There are {establishments.count_documents(query)} establishments with a hygiene score of 20.')\n",
    "# # Display the first document in the results using pprint\n",
    "# pprint(results[0])\n",
    "from pprint import pprint\n",
    "\n",
    "query = {'scores.Hygiene': 20}\n",
    "\n",
    "# Use count_documents to display the number of documents in the result\n",
    "hygiene_count = establishments.count_documents(query)\n",
    "print('Number of documents:', hygiene_count)\n",
    "\n",
    "# Display the first document in the results using print\n",
    "hygiene_results = establishments.find_one(query)\n",
    "pprint(hygiene_results)"
   ]
  },
  {
   "cell_type": "code",
   "execution_count": 28,
   "id": "a6e5cece",
   "metadata": {
    "tags": []
   },
   "outputs": [
    {
     "name": "stdout",
     "output_type": "stream",
     "text": [
      "Number of rows in the dataframe: 42\n"
     ]
    },
    {
     "data": {
      "text/html": [
       "<div>\n",
       "<style scoped>\n",
       "    .dataframe tbody tr th:only-of-type {\n",
       "        vertical-align: middle;\n",
       "    }\n",
       "\n",
       "    .dataframe tbody tr th {\n",
       "        vertical-align: top;\n",
       "    }\n",
       "\n",
       "    .dataframe thead th {\n",
       "        text-align: right;\n",
       "    }\n",
       "</style>\n",
       "<table border=\"1\" class=\"dataframe\">\n",
       "  <thead>\n",
       "    <tr style=\"text-align: right;\">\n",
       "      <th></th>\n",
       "      <th>_id</th>\n",
       "      <th>name</th>\n",
       "      <th>scores</th>\n",
       "      <th>FHRSID</th>\n",
       "      <th>ChangesByServerID</th>\n",
       "      <th>LocalAuthorityBusinessID</th>\n",
       "      <th>BusinessName</th>\n",
       "      <th>BusinessType</th>\n",
       "      <th>BusinessTypeID</th>\n",
       "      <th>AddressLine1</th>\n",
       "      <th>...</th>\n",
       "      <th>LocalAuthorityName</th>\n",
       "      <th>LocalAuthorityWebSite</th>\n",
       "      <th>LocalAuthorityEmailAddress</th>\n",
       "      <th>SchemeType</th>\n",
       "      <th>geocode</th>\n",
       "      <th>RightToReply</th>\n",
       "      <th>Distance</th>\n",
       "      <th>NewRatingPending</th>\n",
       "      <th>meta</th>\n",
       "      <th>links</th>\n",
       "    </tr>\n",
       "  </thead>\n",
       "  <tbody>\n",
       "    <tr>\n",
       "      <th>0</th>\n",
       "      <td>66bf0f3d5d184efb083b8ee2</td>\n",
       "      <td>Sample Establishment</td>\n",
       "      <td>{'Hygiene': 20, 'Structural': 15, 'ConfidenceI...</td>\n",
       "      <td>NaN</td>\n",
       "      <td>NaN</td>\n",
       "      <td>NaN</td>\n",
       "      <td>NaN</td>\n",
       "      <td>NaN</td>\n",
       "      <td>NaN</td>\n",
       "      <td>NaN</td>\n",
       "      <td>...</td>\n",
       "      <td>NaN</td>\n",
       "      <td>NaN</td>\n",
       "      <td>NaN</td>\n",
       "      <td>NaN</td>\n",
       "      <td>NaN</td>\n",
       "      <td>NaN</td>\n",
       "      <td>NaN</td>\n",
       "      <td>NaN</td>\n",
       "      <td>NaN</td>\n",
       "      <td>NaN</td>\n",
       "    </tr>\n",
       "    <tr>\n",
       "      <th>1</th>\n",
       "      <td>66bf10b05d184efb083bacfc</td>\n",
       "      <td>NaN</td>\n",
       "      <td>{'Hygiene': 20, 'Structural': 20, 'ConfidenceI...</td>\n",
       "      <td>110681.0</td>\n",
       "      <td>0.0</td>\n",
       "      <td>4029</td>\n",
       "      <td>The Chase Rest Home</td>\n",
       "      <td>Caring Premises</td>\n",
       "      <td>5.0</td>\n",
       "      <td>5-6 Southfields Road</td>\n",
       "      <td>...</td>\n",
       "      <td>Eastbourne</td>\n",
       "      <td>http://www.eastbourne.gov.uk/foodratings</td>\n",
       "      <td>Customerfirst@eastbourne.gov.uk</td>\n",
       "      <td>FHRS</td>\n",
       "      <td>{'longitude': '0.27694', 'latitude': '50.769705'}</td>\n",
       "      <td></td>\n",
       "      <td>4613.888288</td>\n",
       "      <td>False</td>\n",
       "      <td>{'dataSource': None, 'extractDate': '0001-01-0...</td>\n",
       "      <td>[{'rel': 'self', 'href': 'https://api.ratings....</td>\n",
       "    </tr>\n",
       "    <tr>\n",
       "      <th>2</th>\n",
       "      <td>66bf10b05d184efb083bb07d</td>\n",
       "      <td>NaN</td>\n",
       "      <td>{'Hygiene': 20, 'Structural': 15, 'ConfidenceI...</td>\n",
       "      <td>612039.0</td>\n",
       "      <td>0.0</td>\n",
       "      <td>1970/FOOD</td>\n",
       "      <td>Brenalwood</td>\n",
       "      <td>Caring Premises</td>\n",
       "      <td>5.0</td>\n",
       "      <td>Hall Lane</td>\n",
       "      <td>...</td>\n",
       "      <td>Tendring</td>\n",
       "      <td>http://www.tendringdc.gov.uk/</td>\n",
       "      <td>fhsadmin@tendringdc.gov.uk</td>\n",
       "      <td>FHRS</td>\n",
       "      <td>{'longitude': '1.278721', 'latitude': '51.8575...</td>\n",
       "      <td></td>\n",
       "      <td>4617.965824</td>\n",
       "      <td>False</td>\n",
       "      <td>{'dataSource': None, 'extractDate': '0001-01-0...</td>\n",
       "      <td>[{'rel': 'self', 'href': 'https://api.ratings....</td>\n",
       "    </tr>\n",
       "    <tr>\n",
       "      <th>3</th>\n",
       "      <td>66bf10b05d184efb083bb387</td>\n",
       "      <td>NaN</td>\n",
       "      <td>{'Hygiene': 20, 'Structural': 20, 'ConfidenceI...</td>\n",
       "      <td>730933.0</td>\n",
       "      <td>0.0</td>\n",
       "      <td>1698/FOOD</td>\n",
       "      <td>Melrose Hotel</td>\n",
       "      <td>Hotel/bed &amp; breakfast/guest house</td>\n",
       "      <td>7842.0</td>\n",
       "      <td>53 Marine Parade East</td>\n",
       "      <td>...</td>\n",
       "      <td>Tendring</td>\n",
       "      <td>http://www.tendringdc.gov.uk/</td>\n",
       "      <td>fhsadmin@tendringdc.gov.uk</td>\n",
       "      <td>FHRS</td>\n",
       "      <td>{'longitude': '1.15927', 'latitude': '51.789429'}</td>\n",
       "      <td></td>\n",
       "      <td>4619.656144</td>\n",
       "      <td>False</td>\n",
       "      <td>{'dataSource': None, 'extractDate': '0001-01-0...</td>\n",
       "      <td>[{'rel': 'self', 'href': 'https://api.ratings....</td>\n",
       "    </tr>\n",
       "    <tr>\n",
       "      <th>4</th>\n",
       "      <td>66bf10b05d184efb083bb575</td>\n",
       "      <td>NaN</td>\n",
       "      <td>{'Hygiene': 20, 'Structural': 10, 'ConfidenceI...</td>\n",
       "      <td>172735.0</td>\n",
       "      <td>0.0</td>\n",
       "      <td>PI/000023858</td>\n",
       "      <td>Seaford Pizza</td>\n",
       "      <td>Takeaway/sandwich shop</td>\n",
       "      <td>7844.0</td>\n",
       "      <td>4 High Street</td>\n",
       "      <td>...</td>\n",
       "      <td>Lewes</td>\n",
       "      <td>http://www.lewes-eastbourne.gov.uk/</td>\n",
       "      <td>ehealth.ldc@lewes-eastbourne.gov.uk</td>\n",
       "      <td>FHRS</td>\n",
       "      <td>{'longitude': '0.10202', 'latitude': '50.770885'}</td>\n",
       "      <td></td>\n",
       "      <td>4620.421725</td>\n",
       "      <td>False</td>\n",
       "      <td>{'dataSource': None, 'extractDate': '0001-01-0...</td>\n",
       "      <td>[{'rel': 'self', 'href': 'https://api.ratings....</td>\n",
       "    </tr>\n",
       "    <tr>\n",
       "      <th>5</th>\n",
       "      <td>66bf10b05d184efb083bb584</td>\n",
       "      <td>NaN</td>\n",
       "      <td>{'Hygiene': 20, 'Structural': 10, 'ConfidenceI...</td>\n",
       "      <td>172953.0</td>\n",
       "      <td>0.0</td>\n",
       "      <td>PI/000024532</td>\n",
       "      <td>Golden Palace</td>\n",
       "      <td>Restaurant/Cafe/Canteen</td>\n",
       "      <td>1.0</td>\n",
       "      <td>5 South Street</td>\n",
       "      <td>...</td>\n",
       "      <td>Lewes</td>\n",
       "      <td>http://www.lewes-eastbourne.gov.uk/</td>\n",
       "      <td>ehealth.ldc@lewes-eastbourne.gov.uk</td>\n",
       "      <td>FHRS</td>\n",
       "      <td>{'longitude': '0.101446', 'latitude': '50.7707...</td>\n",
       "      <td></td>\n",
       "      <td>4620.437179</td>\n",
       "      <td>False</td>\n",
       "      <td>{'dataSource': None, 'extractDate': '0001-01-0...</td>\n",
       "      <td>[{'rel': 'self', 'href': 'https://api.ratings....</td>\n",
       "    </tr>\n",
       "    <tr>\n",
       "      <th>6</th>\n",
       "      <td>66bf10b05d184efb083bbf23</td>\n",
       "      <td>NaN</td>\n",
       "      <td>{'Hygiene': 20, 'Structural': 20, 'ConfidenceI...</td>\n",
       "      <td>512854.0</td>\n",
       "      <td>0.0</td>\n",
       "      <td>12/00816/BUTH</td>\n",
       "      <td>Ashby's Butchers</td>\n",
       "      <td>Retailers - other</td>\n",
       "      <td>4613.0</td>\n",
       "      <td>777 Southchurch Road</td>\n",
       "      <td>...</td>\n",
       "      <td>Southend-On-Sea</td>\n",
       "      <td>http://www.southend.gov.uk</td>\n",
       "      <td>EnvironmentalHealth@southend.gov.uk</td>\n",
       "      <td>FHRS</td>\n",
       "      <td>{'longitude': '0.736349', 'latitude': '51.5414...</td>\n",
       "      <td></td>\n",
       "      <td>4625.565258</td>\n",
       "      <td>False</td>\n",
       "      <td>{'dataSource': None, 'extractDate': '0001-01-0...</td>\n",
       "      <td>[{'rel': 'self', 'href': 'https://api.ratings....</td>\n",
       "    </tr>\n",
       "    <tr>\n",
       "      <th>7</th>\n",
       "      <td>66bf10b05d184efb083bc144</td>\n",
       "      <td>NaN</td>\n",
       "      <td>{'Hygiene': 20, 'Structural': 20, 'ConfidenceI...</td>\n",
       "      <td>1537089.0</td>\n",
       "      <td>0.0</td>\n",
       "      <td>22/00224/RESTUN</td>\n",
       "      <td>South Sea Express Cuisine</td>\n",
       "      <td>Restaurant/Cafe/Canteen</td>\n",
       "      <td>1.0</td>\n",
       "      <td>33 Alexandra Street</td>\n",
       "      <td>...</td>\n",
       "      <td>Southend-On-Sea</td>\n",
       "      <td>http://www.southend.gov.uk</td>\n",
       "      <td>EnvironmentalHealth@southend.gov.uk</td>\n",
       "      <td>FHRS</td>\n",
       "      <td>{'longitude': '0.7121671', 'latitude': '51.535...</td>\n",
       "      <td></td>\n",
       "      <td>4626.200132</td>\n",
       "      <td>False</td>\n",
       "      <td>{'dataSource': None, 'extractDate': '0001-01-0...</td>\n",
       "      <td>[{'rel': 'self', 'href': 'https://api.ratings....</td>\n",
       "    </tr>\n",
       "    <tr>\n",
       "      <th>8</th>\n",
       "      <td>66bf10b05d184efb083bd66f</td>\n",
       "      <td>NaN</td>\n",
       "      <td>{'Hygiene': 20, 'Structural': 15, 'ConfidenceI...</td>\n",
       "      <td>155648.0</td>\n",
       "      <td>0.0</td>\n",
       "      <td>EH/00006058</td>\n",
       "      <td>Golden Palace</td>\n",
       "      <td>Takeaway/sandwich shop</td>\n",
       "      <td>7844.0</td>\n",
       "      <td>7 London Road</td>\n",
       "      <td>...</td>\n",
       "      <td>Rochford</td>\n",
       "      <td>http://www.rochford.gov.uk</td>\n",
       "      <td>customerservices@rochford.gov.uk</td>\n",
       "      <td>FHRS</td>\n",
       "      <td>{'longitude': '0.602364', 'latitude': '51.5915...</td>\n",
       "      <td></td>\n",
       "      <td>4632.276890</td>\n",
       "      <td>False</td>\n",
       "      <td>{'dataSource': None, 'extractDate': '0001-01-0...</td>\n",
       "      <td>[{'rel': 'self', 'href': 'http://api.ratings.f...</td>\n",
       "    </tr>\n",
       "    <tr>\n",
       "      <th>9</th>\n",
       "      <td>66bf10b05d184efb083bdab3</td>\n",
       "      <td>NaN</td>\n",
       "      <td>{'Hygiene': 20, 'Structural': 5, 'ConfidenceIn...</td>\n",
       "      <td>1012883.0</td>\n",
       "      <td>0.0</td>\n",
       "      <td>17/00110/MIXED/S</td>\n",
       "      <td>The Tulip Tree</td>\n",
       "      <td>Restaurant/Cafe/Canteen</td>\n",
       "      <td>1.0</td>\n",
       "      <td>3 The Village</td>\n",
       "      <td>...</td>\n",
       "      <td>Sevenoaks</td>\n",
       "      <td>http://www.sevenoaks.gov.uk/</td>\n",
       "      <td>environmental.health@sevenoaks.gov.uk</td>\n",
       "      <td>FHRS</td>\n",
       "      <td>{'longitude': '0.146449998021126', 'latitude':...</td>\n",
       "      <td></td>\n",
       "      <td>4633.934041</td>\n",
       "      <td>False</td>\n",
       "      <td>{'dataSource': None, 'extractDate': '0001-01-0...</td>\n",
       "      <td>[{'rel': 'self', 'href': 'http://api.ratings.f...</td>\n",
       "    </tr>\n",
       "  </tbody>\n",
       "</table>\n",
       "<p>10 rows × 29 columns</p>\n",
       "</div>"
      ],
      "text/plain": [
       "                        _id                  name  \\\n",
       "0  66bf0f3d5d184efb083b8ee2  Sample Establishment   \n",
       "1  66bf10b05d184efb083bacfc                   NaN   \n",
       "2  66bf10b05d184efb083bb07d                   NaN   \n",
       "3  66bf10b05d184efb083bb387                   NaN   \n",
       "4  66bf10b05d184efb083bb575                   NaN   \n",
       "5  66bf10b05d184efb083bb584                   NaN   \n",
       "6  66bf10b05d184efb083bbf23                   NaN   \n",
       "7  66bf10b05d184efb083bc144                   NaN   \n",
       "8  66bf10b05d184efb083bd66f                   NaN   \n",
       "9  66bf10b05d184efb083bdab3                   NaN   \n",
       "\n",
       "                                              scores     FHRSID  \\\n",
       "0  {'Hygiene': 20, 'Structural': 15, 'ConfidenceI...        NaN   \n",
       "1  {'Hygiene': 20, 'Structural': 20, 'ConfidenceI...   110681.0   \n",
       "2  {'Hygiene': 20, 'Structural': 15, 'ConfidenceI...   612039.0   \n",
       "3  {'Hygiene': 20, 'Structural': 20, 'ConfidenceI...   730933.0   \n",
       "4  {'Hygiene': 20, 'Structural': 10, 'ConfidenceI...   172735.0   \n",
       "5  {'Hygiene': 20, 'Structural': 10, 'ConfidenceI...   172953.0   \n",
       "6  {'Hygiene': 20, 'Structural': 20, 'ConfidenceI...   512854.0   \n",
       "7  {'Hygiene': 20, 'Structural': 20, 'ConfidenceI...  1537089.0   \n",
       "8  {'Hygiene': 20, 'Structural': 15, 'ConfidenceI...   155648.0   \n",
       "9  {'Hygiene': 20, 'Structural': 5, 'ConfidenceIn...  1012883.0   \n",
       "\n",
       "   ChangesByServerID LocalAuthorityBusinessID               BusinessName  \\\n",
       "0                NaN                      NaN                        NaN   \n",
       "1                0.0                     4029        The Chase Rest Home   \n",
       "2                0.0                1970/FOOD                 Brenalwood   \n",
       "3                0.0                1698/FOOD              Melrose Hotel   \n",
       "4                0.0             PI/000023858              Seaford Pizza   \n",
       "5                0.0             PI/000024532              Golden Palace   \n",
       "6                0.0            12/00816/BUTH           Ashby's Butchers   \n",
       "7                0.0          22/00224/RESTUN  South Sea Express Cuisine   \n",
       "8                0.0              EH/00006058              Golden Palace   \n",
       "9                0.0         17/00110/MIXED/S             The Tulip Tree   \n",
       "\n",
       "                        BusinessType  BusinessTypeID           AddressLine1  \\\n",
       "0                                NaN             NaN                    NaN   \n",
       "1                    Caring Premises             5.0   5-6 Southfields Road   \n",
       "2                    Caring Premises             5.0              Hall Lane   \n",
       "3  Hotel/bed & breakfast/guest house          7842.0  53 Marine Parade East   \n",
       "4             Takeaway/sandwich shop          7844.0          4 High Street   \n",
       "5            Restaurant/Cafe/Canteen             1.0         5 South Street   \n",
       "6                  Retailers - other          4613.0   777 Southchurch Road   \n",
       "7            Restaurant/Cafe/Canteen             1.0    33 Alexandra Street   \n",
       "8             Takeaway/sandwich shop          7844.0          7 London Road   \n",
       "9            Restaurant/Cafe/Canteen             1.0          3 The Village   \n",
       "\n",
       "   ... LocalAuthorityName                     LocalAuthorityWebSite  \\\n",
       "0  ...                NaN                                       NaN   \n",
       "1  ...         Eastbourne  http://www.eastbourne.gov.uk/foodratings   \n",
       "2  ...           Tendring             http://www.tendringdc.gov.uk/   \n",
       "3  ...           Tendring             http://www.tendringdc.gov.uk/   \n",
       "4  ...              Lewes       http://www.lewes-eastbourne.gov.uk/   \n",
       "5  ...              Lewes       http://www.lewes-eastbourne.gov.uk/   \n",
       "6  ...    Southend-On-Sea                http://www.southend.gov.uk   \n",
       "7  ...    Southend-On-Sea                http://www.southend.gov.uk   \n",
       "8  ...           Rochford                http://www.rochford.gov.uk   \n",
       "9  ...          Sevenoaks              http://www.sevenoaks.gov.uk/   \n",
       "\n",
       "              LocalAuthorityEmailAddress SchemeType  \\\n",
       "0                                    NaN        NaN   \n",
       "1        Customerfirst@eastbourne.gov.uk       FHRS   \n",
       "2             fhsadmin@tendringdc.gov.uk       FHRS   \n",
       "3             fhsadmin@tendringdc.gov.uk       FHRS   \n",
       "4    ehealth.ldc@lewes-eastbourne.gov.uk       FHRS   \n",
       "5    ehealth.ldc@lewes-eastbourne.gov.uk       FHRS   \n",
       "6    EnvironmentalHealth@southend.gov.uk       FHRS   \n",
       "7    EnvironmentalHealth@southend.gov.uk       FHRS   \n",
       "8       customerservices@rochford.gov.uk       FHRS   \n",
       "9  environmental.health@sevenoaks.gov.uk       FHRS   \n",
       "\n",
       "                                             geocode RightToReply  \\\n",
       "0                                                NaN          NaN   \n",
       "1  {'longitude': '0.27694', 'latitude': '50.769705'}                \n",
       "2  {'longitude': '1.278721', 'latitude': '51.8575...                \n",
       "3  {'longitude': '1.15927', 'latitude': '51.789429'}                \n",
       "4  {'longitude': '0.10202', 'latitude': '50.770885'}                \n",
       "5  {'longitude': '0.101446', 'latitude': '50.7707...                \n",
       "6  {'longitude': '0.736349', 'latitude': '51.5414...                \n",
       "7  {'longitude': '0.7121671', 'latitude': '51.535...                \n",
       "8  {'longitude': '0.602364', 'latitude': '51.5915...                \n",
       "9  {'longitude': '0.146449998021126', 'latitude':...                \n",
       "\n",
       "      Distance NewRatingPending  \\\n",
       "0          NaN              NaN   \n",
       "1  4613.888288            False   \n",
       "2  4617.965824            False   \n",
       "3  4619.656144            False   \n",
       "4  4620.421725            False   \n",
       "5  4620.437179            False   \n",
       "6  4625.565258            False   \n",
       "7  4626.200132            False   \n",
       "8  4632.276890            False   \n",
       "9  4633.934041            False   \n",
       "\n",
       "                                                meta  \\\n",
       "0                                                NaN   \n",
       "1  {'dataSource': None, 'extractDate': '0001-01-0...   \n",
       "2  {'dataSource': None, 'extractDate': '0001-01-0...   \n",
       "3  {'dataSource': None, 'extractDate': '0001-01-0...   \n",
       "4  {'dataSource': None, 'extractDate': '0001-01-0...   \n",
       "5  {'dataSource': None, 'extractDate': '0001-01-0...   \n",
       "6  {'dataSource': None, 'extractDate': '0001-01-0...   \n",
       "7  {'dataSource': None, 'extractDate': '0001-01-0...   \n",
       "8  {'dataSource': None, 'extractDate': '0001-01-0...   \n",
       "9  {'dataSource': None, 'extractDate': '0001-01-0...   \n",
       "\n",
       "                                               links  \n",
       "0                                                NaN  \n",
       "1  [{'rel': 'self', 'href': 'https://api.ratings....  \n",
       "2  [{'rel': 'self', 'href': 'https://api.ratings....  \n",
       "3  [{'rel': 'self', 'href': 'https://api.ratings....  \n",
       "4  [{'rel': 'self', 'href': 'https://api.ratings....  \n",
       "5  [{'rel': 'self', 'href': 'https://api.ratings....  \n",
       "6  [{'rel': 'self', 'href': 'https://api.ratings....  \n",
       "7  [{'rel': 'self', 'href': 'https://api.ratings....  \n",
       "8  [{'rel': 'self', 'href': 'http://api.ratings.f...  \n",
       "9  [{'rel': 'self', 'href': 'http://api.ratings.f...  \n",
       "\n",
       "[10 rows x 29 columns]"
      ]
     },
     "execution_count": 28,
     "metadata": {},
     "output_type": "execute_result"
    }
   ],
   "source": [
    "import pandas as pd\n",
    "\n",
    "# Convert the result to a Pandas DataFrame\n",
    "hygiene_results = establishments.find(query)\n",
    "hygiene_df = pd.DataFrame(hygiene_results)\n",
    "\n",
    "# Display the number of rows in the DataFrame\n",
    "print('Number of rows in the dataframe:', len(hygiene_df))\n",
    "\n",
    "# Display the first 10 rows of the DataFrame\n",
    "hygiene_df.head(10)"
   ]
  },
  {
   "cell_type": "markdown",
   "id": "0ef4395a",
   "metadata": {},
   "source": [
    "### 2. Which establishments in London have a `RatingValue` greater than or equal to 4?"
   ]
  },
  {
   "cell_type": "code",
   "execution_count": 44,
   "id": "93c63829",
   "metadata": {
    "tags": []
   },
   "outputs": [
    {
     "name": "stdout",
     "output_type": "stream",
     "text": [
      "Number of documents matching the query: 0\n",
      "None\n"
     ]
    }
   ],
   "source": [
    "query = {'LocalAuthorityName': {'$regex':'London'}, \n",
    "         'RatingValue': {'$gte': 4}}\n",
    "\n",
    "# Use count_documents to display the number of documents in the result\n",
    "rating_count = establishments.count_documents(query)\n",
    "print(\"Number of documents matching the query:\", rating_count)\n",
    "\n",
    "# Display the first document in the results using pprint\n",
    "rating_results = establishments.find_one(query)\n",
    "pprint(rating_results)"
   ]
  },
  {
   "cell_type": "code",
   "execution_count": 45,
   "id": "07e24ccb",
   "metadata": {
    "tags": []
   },
   "outputs": [
    {
     "name": "stdout",
     "output_type": "stream",
     "text": [
      "Number of rows in the dataframe: 0\n"
     ]
    },
    {
     "data": {
      "text/html": [
       "<div>\n",
       "<style scoped>\n",
       "    .dataframe tbody tr th:only-of-type {\n",
       "        vertical-align: middle;\n",
       "    }\n",
       "\n",
       "    .dataframe tbody tr th {\n",
       "        vertical-align: top;\n",
       "    }\n",
       "\n",
       "    .dataframe thead th {\n",
       "        text-align: right;\n",
       "    }\n",
       "</style>\n",
       "<table border=\"1\" class=\"dataframe\">\n",
       "  <thead>\n",
       "    <tr style=\"text-align: right;\">\n",
       "      <th></th>\n",
       "    </tr>\n",
       "  </thead>\n",
       "  <tbody>\n",
       "  </tbody>\n",
       "</table>\n",
       "</div>"
      ],
      "text/plain": [
       "Empty DataFrame\n",
       "Columns: []\n",
       "Index: []"
      ]
     },
     "execution_count": 45,
     "metadata": {},
     "output_type": "execute_result"
    }
   ],
   "source": [
    " #convert the result to a Pandas DataFrame\n",
    "rating_results = establishments.find(query)\n",
    "rating_df = pd.DataFrame(rating_results)\n",
    "\n",
    "# Display the number of rows in the DataFrame\n",
    "print('Number of rows in the dataframe:', len(rating_df))\n",
    "# Display the first 10 rows of the DataFrame\n",
    "rating_df.head(10)"
   ]
  },
  {
   "cell_type": "markdown",
   "id": "4e570caf",
   "metadata": {},
   "source": [
    "### 3. What are the top 5 establishments with a `RatingValue` rating value of 5, sorted by lowest hygiene score, nearest to the new restaurant added, \"Penang Flavours\"?"
   ]
  },
  {
   "cell_type": "code",
   "execution_count": 46,
   "id": "7f599f3d",
   "metadata": {
    "tags": []
   },
   "outputs": [
    {
     "name": "stdout",
     "output_type": "stream",
     "text": [
      "[]\n"
     ]
    }
   ],
   "source": [
    "# # Search within 0.01 degree on either side of the latitude and longitude.\n",
    "# # Rating value must equal 5\n",
    "# # Sort by hygiene score\n",
    "\n",
    "degree_search = 0.01\n",
    "latitude = 51.49014200\n",
    "longitude = 0.08384000\n",
    "\n",
    "query = {'geocode.latitude':{'$gte':latitude-degree_search, '$lte':latitude+degree_search},\n",
    "         'geocode.longitude':{'$gte':longitude-degree_search, '$lte':longitude+degree_search},\n",
    "         'RatingValue':5}\n",
    "\n",
    "sort = [('scores.Hygiene', 1)]\n",
    "limit = 5\n",
    "penang_prox_results = list(establishments.find(query).sort(sort).limit(limit))\n",
    "\n",
    "# Print the results\n",
    "pprint(penang_prox_results)"
   ]
  },
  {
   "cell_type": "code",
   "execution_count": 49,
   "id": "a6ad16f7",
   "metadata": {
    "tags": []
   },
   "outputs": [
    {
     "data": {
      "text/html": [
       "<div>\n",
       "<style scoped>\n",
       "    .dataframe tbody tr th:only-of-type {\n",
       "        vertical-align: middle;\n",
       "    }\n",
       "\n",
       "    .dataframe tbody tr th {\n",
       "        vertical-align: top;\n",
       "    }\n",
       "\n",
       "    .dataframe thead th {\n",
       "        text-align: right;\n",
       "    }\n",
       "</style>\n",
       "<table border=\"1\" class=\"dataframe\">\n",
       "  <thead>\n",
       "    <tr style=\"text-align: right;\">\n",
       "      <th></th>\n",
       "    </tr>\n",
       "  </thead>\n",
       "  <tbody>\n",
       "  </tbody>\n",
       "</table>\n",
       "</div>"
      ],
      "text/plain": [
       "Empty DataFrame\n",
       "Columns: []\n",
       "Index: []"
      ]
     },
     "execution_count": 49,
     "metadata": {},
     "output_type": "execute_result"
    }
   ],
   "source": [
    "# Convert result to Pandas DataFrame\n",
    "penang_prox_df= pd.DataFrame(penang_prox_results)\n",
    "penang_prox_df"
   ]
  },
  {
   "cell_type": "markdown",
   "id": "67281254",
   "metadata": {},
   "source": [
    "### 4. How many establishments in each Local Authority area have a hygiene score of 0?"
   ]
  },
  {
   "cell_type": "code",
   "execution_count": 50,
   "id": "4eeb227e",
   "metadata": {
    "tags": []
   },
   "outputs": [
    {
     "name": "stdout",
     "output_type": "stream",
     "text": [
      "There are 56 documents in this result.\n",
      "[{'_id': 'Thanet', 'count': 1130},\n",
      " {'_id': 'Greenwich', 'count': 882},\n",
      " {'_id': 'Maidstone', 'count': 713},\n",
      " {'_id': 'Newham', 'count': 711},\n",
      " {'_id': 'Swale', 'count': 686},\n",
      " {'_id': 'Chelmsford', 'count': 680},\n",
      " {'_id': 'Medway', 'count': 672},\n",
      " {'_id': 'Bexley', 'count': 607},\n",
      " {'_id': 'Southend-On-Sea', 'count': 586},\n",
      " {'_id': 'Tendring', 'count': 542}]\n"
     ]
    }
   ],
   "source": [
    "# Create a pipeline that: \n",
    "# 1. Matches establishments with a hygiene score of 0\n",
    "match_query = {'$match': {'scores.Hygiene':0}}\n",
    "\n",
    "# 2. Groups the matches by Local Authority\n",
    "group_query = {'$group': {'_id': '$LocalAuthorityName', 'count': {'$sum': 1}}}\n",
    "\n",
    "# 3. Sorts the matches from highest to lowest\n",
    "sort_values = {'$sort': {'count': -1}}\n",
    "\n",
    "pipeline = [match_query, group_query, sort_values]\n",
    "\n",
    "# Print the number of documents in the result\n",
    "pipe_agg = list(establishments.aggregate(pipeline))\n",
    "print(f'There are {len(pipe_agg)} documents in this result.')\n",
    "\n",
    "# Print the first 10 results\n",
    "pprint(pipe_agg[0:10])"
   ]
  },
  {
   "cell_type": "code",
   "execution_count": 51,
   "id": "d8aab364",
   "metadata": {
    "tags": []
   },
   "outputs": [
    {
     "name": "stdout",
     "output_type": "stream",
     "text": [
      "There are 56 rows in this DataFrame.\n"
     ]
    },
    {
     "data": {
      "text/html": [
       "<div>\n",
       "<style scoped>\n",
       "    .dataframe tbody tr th:only-of-type {\n",
       "        vertical-align: middle;\n",
       "    }\n",
       "\n",
       "    .dataframe tbody tr th {\n",
       "        vertical-align: top;\n",
       "    }\n",
       "\n",
       "    .dataframe thead th {\n",
       "        text-align: right;\n",
       "    }\n",
       "</style>\n",
       "<table border=\"1\" class=\"dataframe\">\n",
       "  <thead>\n",
       "    <tr style=\"text-align: right;\">\n",
       "      <th></th>\n",
       "      <th>_id</th>\n",
       "      <th>count</th>\n",
       "    </tr>\n",
       "  </thead>\n",
       "  <tbody>\n",
       "    <tr>\n",
       "      <th>0</th>\n",
       "      <td>Thanet</td>\n",
       "      <td>1130</td>\n",
       "    </tr>\n",
       "    <tr>\n",
       "      <th>1</th>\n",
       "      <td>Greenwich</td>\n",
       "      <td>882</td>\n",
       "    </tr>\n",
       "    <tr>\n",
       "      <th>2</th>\n",
       "      <td>Maidstone</td>\n",
       "      <td>713</td>\n",
       "    </tr>\n",
       "    <tr>\n",
       "      <th>3</th>\n",
       "      <td>Newham</td>\n",
       "      <td>711</td>\n",
       "    </tr>\n",
       "    <tr>\n",
       "      <th>4</th>\n",
       "      <td>Swale</td>\n",
       "      <td>686</td>\n",
       "    </tr>\n",
       "    <tr>\n",
       "      <th>5</th>\n",
       "      <td>Chelmsford</td>\n",
       "      <td>680</td>\n",
       "    </tr>\n",
       "    <tr>\n",
       "      <th>6</th>\n",
       "      <td>Medway</td>\n",
       "      <td>672</td>\n",
       "    </tr>\n",
       "    <tr>\n",
       "      <th>7</th>\n",
       "      <td>Bexley</td>\n",
       "      <td>607</td>\n",
       "    </tr>\n",
       "    <tr>\n",
       "      <th>8</th>\n",
       "      <td>Southend-On-Sea</td>\n",
       "      <td>586</td>\n",
       "    </tr>\n",
       "    <tr>\n",
       "      <th>9</th>\n",
       "      <td>Tendring</td>\n",
       "      <td>542</td>\n",
       "    </tr>\n",
       "  </tbody>\n",
       "</table>\n",
       "</div>"
      ],
      "text/plain": [
       "               _id  count\n",
       "0           Thanet   1130\n",
       "1        Greenwich    882\n",
       "2        Maidstone    713\n",
       "3           Newham    711\n",
       "4            Swale    686\n",
       "5       Chelmsford    680\n",
       "6           Medway    672\n",
       "7           Bexley    607\n",
       "8  Southend-On-Sea    586\n",
       "9         Tendring    542"
      ]
     },
     "execution_count": 51,
     "metadata": {},
     "output_type": "execute_result"
    }
   ],
   "source": [
    "# Convert the result to a Pandas DataFrame\n",
    "pipeline_df = pd.DataFrame(pipe_agg)\n",
    "\n",
    "# Display the number of rows in the DataFrame\n",
    "print(f'There are {len(pipeline_df)} rows in this DataFrame.')\n",
    "\n",
    "# Display the first 10 rows of the DataFrame\n",
    "pipeline_df.head(10)"
   ]
  },
  {
   "cell_type": "code",
   "execution_count": null,
   "id": "7956f424-2876-43cd-ad0c-c541974dd977",
   "metadata": {},
   "outputs": [],
   "source": []
  }
 ],
 "metadata": {
  "kernelspec": {
   "display_name": "Python 3 (ipykernel)",
   "language": "python",
   "name": "python3"
  },
  "language_info": {
   "codemirror_mode": {
    "name": "ipython",
    "version": 3
   },
   "file_extension": ".py",
   "mimetype": "text/x-python",
   "name": "python",
   "nbconvert_exporter": "python",
   "pygments_lexer": "ipython3",
   "version": "3.11.7"
  }
 },
 "nbformat": 4,
 "nbformat_minor": 5
}
